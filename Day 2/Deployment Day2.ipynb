{
 "cells": [
  {
   "cell_type": "markdown",
   "metadata": {},
   "source": [
    "# Different Types Of Cloud Services"
   ]
  },
  {
   "cell_type": "markdown",
   "metadata": {},
   "source": [
    "![Desktop_HD.jpg](https://litslink.com/media/1/Desktop_HD.jpg)"
   ]
  },
  {
   "cell_type": "markdown",
   "metadata": {},
   "source": [
    "## SaaS"
   ]
  },
  {
   "cell_type": "markdown",
   "metadata": {},
   "source": [
    "SaaS, Software as a Service, is a service mainly for the end-user. It allows data and cloud-native application to be accessed from any device that has access to internet, because all computing resources are managed by the vendor. Some popular examples:  Gmail, Dropbox..."
   ]
  },
  {
   "cell_type": "markdown",
   "metadata": {},
   "source": [
    "## PaaS"
   ]
  },
  {
   "cell_type": "markdown",
   "metadata": {},
   "source": [
    "PaaS, Platform as a Service, is a service directed for the developers. It delivers a platform developers can build, test, deploy and maintain software. Most of the computing resources are still covered by the vendor apart from application and data. The developers build the application on the platform and they can use data for the applciation. It can also be used for CI/CD automation. Some popular examples: Heroku, AWS Lambda, Google Cloud Engine..."
   ]
  },
  {
   "cell_type": "markdown",
   "metadata": {},
   "source": [
    "## IaaS"
   ]
  },
  {
   "cell_type": "markdown",
   "metadata": {},
   "source": [
    "IaaS, Infrastructure as a Service, is for IT administrators. It provides the infrastructure to the user, who can use any OS on this infrastructure. Basically this service provides serverless computing. The user has a control of the infrastructure throguh a high-level API. The virtualization, storage and network are provided by the vendor.  For example, virtual machines, containers..."
   ]
  },
  {
   "cell_type": "markdown",
   "metadata": {},
   "source": [
    "## MLaaS"
   ]
  },
  {
   "cell_type": "markdown",
   "metadata": {},
   "source": [
    "MLaaS, Machine Learning as a Service, is a service that provides machine learning tools, such as predictive analysis and deep learning and much more. It reduces the cost and time. These cloud-based platforms cover infrastructure issues, such as data pre-processing, model training, and model evaluation. Some popular examples: Amazon ML, Cloud AutoML, Microsoft Azure ML Studio..."
   ]
  },
  {
   "cell_type": "markdown",
   "metadata": {},
   "source": [
    "![IaaS-PaaS-SaaS.png](https://www.inap.com/inap/wp-content/uploads/2020/05/IaaS-PaaS-SaaS.png)"
   ]
  },
  {
   "cell_type": "markdown",
   "metadata": {},
   "source": [
    "# CI/CD"
   ]
  },
  {
   "cell_type": "markdown",
   "metadata": {},
   "source": [
    "![0_TH1nBsXNDB5Njynk.png](https://miro.medium.com/max/2800/0*TH1nBsXNDB5Njynk.PNG)"
   ]
  },
  {
   "cell_type": "markdown",
   "metadata": {},
   "source": [
    "A CI/CD pipeline automates the software delivery process. "
   ]
  },
  {
   "cell_type": "markdown",
   "metadata": {},
   "source": [
    "## CI"
   ]
  },
  {
   "cell_type": "markdown",
   "metadata": {},
   "source": [
    "Continous Integration(CI) is the automation process for the developers. This is the part where the new code changes are built, tested, and then merged. This solves the problem that might come with too many branches."
   ]
  },
  {
   "cell_type": "markdown",
   "metadata": {},
   "source": [
    "## CD"
   ]
  },
  {
   "cell_type": "markdown",
   "metadata": {},
   "source": [
    "Continous Delivery / Deployment(CD) is the automation process of the software delivery and deployment. The new software gets verified and goes into the deployment procedure."
   ]
  },
  {
   "cell_type": "markdown",
   "metadata": {},
   "source": [
    "There are several steps to a CI/CD pipeline:"
   ]
  },
  {
   "cell_type": "markdown",
   "metadata": {},
   "source": [
    "## Source"
   ]
  },
  {
   "cell_type": "markdown",
   "metadata": {},
   "source": [
    "* This is the step everything starts. The version control system gets monitorized, and whenever a change occurs, the chain of events start, depending on the change."
   ]
  },
  {
   "cell_type": "markdown",
   "metadata": {},
   "source": [
    "## Build"
   ]
  },
  {
   "cell_type": "markdown",
   "metadata": {},
   "source": [
    "* First, the code goes into a version control system, and then the developers start putting their code with a proper version tag. The source code and the dependencies gets combined. The final software gets compiled.\n",
    "\n",
    "* In the case of a cloud-native sotware that will be deployed by Docker, the Docker container gets built."
   ]
  },
  {
   "cell_type": "markdown",
   "metadata": {},
   "source": [
    "## Test"
   ]
  },
  {
   "cell_type": "markdown",
   "metadata": {},
   "source": [
    "* The software goes into various automated tests, such as a unit test."
   ]
  },
  {
   "cell_type": "markdown",
   "metadata": {},
   "source": [
    "## Deploy"
   ]
  },
  {
   "cell_type": "markdown",
   "metadata": {},
   "source": [
    "* In this step, the application gets deployed into a testing environment. If everything goes well, it can be carried into a production environment for the end-user."
   ]
  },
  {
   "cell_type": "markdown",
   "metadata": {},
   "source": [
    "* Throughout the steps, if anything goes bad, the developers can restart the whole pipeline until there are no errors."
   ]
  },
  {
   "cell_type": "markdown",
   "metadata": {},
   "source": [
    "# Software Deployment"
   ]
  },
  {
   "cell_type": "markdown",
   "metadata": {},
   "source": [
    "Software deployment is delivering completed software to the client. Software deployment should only take place after proper testing to ensure that all the flaws and bugs have been identified and fixed."
   ]
  },
  {
   "cell_type": "markdown",
   "metadata": {},
   "source": [
    "Deployment varies significantly from one case to another, for example, for web development, deployment means moving the software to a server where it is placed into action. It can also be a test server."
   ]
  },
  {
   "cell_type": "markdown",
   "metadata": {},
   "source": [
    "It is important to automate the deployment process, deployment of the latest software versions manually is a horrible task that might result in multiple human errors. Automating the deployment process, decreases the mistakes, increases the deployment pace."
   ]
  },
  {
   "cell_type": "markdown",
   "metadata": {},
   "source": [
    "![r_54040_zGEQB.jpg](https://img.devrant.com/devrant/rant/r_54040_zGEQB.jpg)"
   ]
  },
  {
   "cell_type": "markdown",
   "metadata": {},
   "source": [
    "## What is a virtual machine?"
   ]
  },
  {
   "cell_type": "markdown",
   "metadata": {},
   "source": [
    "A virtual machine is a virtual environment that functions as a virtual computer system with its own CPU, memory, network interface, and storage, created on a physical hardware system. Virtual environments create an isolated environment for projects. This means that each project can have its own dependencies, regardless of what dependencies every other project has."
   ]
  },
  {
   "cell_type": "markdown",
   "metadata": {},
   "source": [
    "Virtual machines run on top of a physical server using a hypervisor(a virtual machine monitor) like Hyper-V, etc."
   ]
  },
  {
   "cell_type": "markdown",
   "metadata": {},
   "source": [
    "* Hardware level virtualization\n",
    "* Each machine has its own OS\n",
    "* Completely isolated"
   ]
  },
  {
   "cell_type": "markdown",
   "metadata": {},
   "source": [
    "## What is a container?"
   ]
  },
  {
   "cell_type": "markdown",
   "metadata": {},
   "source": [
    "A **container** is a software that packages up the application and everything this application needs to run in it. It is a running instance of a software. Containers, differently to a virtual environment, run on top of operating systems kernel. There is an OS-level virtualization."
   ]
  },
  {
   "cell_type": "markdown",
   "metadata": {},
   "source": [
    "* OS-level virtualization\n",
    "* Each container shares main machine's OS\n",
    "* Isolated on process level"
   ]
  },
  {
   "cell_type": "markdown",
   "metadata": {},
   "source": [
    "# Containerization"
   ]
  },
  {
   "cell_type": "markdown",
   "metadata": {},
   "source": [
    "Containerization packages up software code and all its dependencies so that it can run on any infrastructure. Basically, it allows applications to be “written once and run anywhere”. This is important for a data scientist because it is essential for data scientists to be self-sufficient and participate in continuous deployment activities. Building an effective model requires multiple iterations of deployment. It is highly important to have the ability to make small changes and deploy and test frequently. A model can work on a machine but not on the other, this is a solution to that."
   ]
  },
  {
   "cell_type": "markdown",
   "metadata": {},
   "source": [
    "Data science is a team project and needs to be coordinated with other areas. The model will not be deployed alone, and it will be deployed along with other software applications to get a final product. This is where Docker comes in."
   ]
  },
  {
   "cell_type": "markdown",
   "metadata": {},
   "source": [
    "# Docker"
   ]
  },
  {
   "cell_type": "markdown",
   "metadata": {},
   "source": [
    "![VM-Image-1-1024x435.png?ssl=1](https://i1.wp.com/www.docker.com/blog/wp-content/uploads/Blog.-Are-containers-..VM-Image-1-1024x435.png?ssl=1)"
   ]
  },
  {
   "cell_type": "markdown",
   "metadata": {},
   "source": [
    "## What is docker?"
   ]
  },
  {
   "cell_type": "markdown",
   "metadata": {},
   "source": [
    "Docker is a tool that uses containers to make creating, deploying and using applications easier. It lets an application run on any machine without thinking about the requirements. It is a container engine."
   ]
  },
  {
   "cell_type": "markdown",
   "metadata": {},
   "source": [
    "## What is a container image?"
   ]
  },
  {
   "cell_type": "markdown",
   "metadata": {},
   "source": [
    "* A Docker container image is an executable piece of software."
   ]
  },
  {
   "cell_type": "markdown",
   "metadata": {},
   "source": [
    "An image turns into a container in runtime."
   ]
  },
  {
   "cell_type": "markdown",
   "metadata": {},
   "source": [
    "## What is a dockerfile?"
   ]
  },
  {
   "cell_type": "markdown",
   "metadata": {},
   "source": [
    "* A dockerfile is used to build your image, it contains a list of commands to call when building the image. We can **version control** it."
   ]
  },
  {
   "cell_type": "markdown",
   "metadata": {},
   "source": [
    "## What is Dockerhub?"
   ]
  },
  {
   "cell_type": "markdown",
   "metadata": {},
   "source": [
    "* Dockerhub is basically github for docker images"
   ]
  },
  {
   "cell_type": "markdown",
   "metadata": {},
   "source": [
    "## What is a tag?"
   ]
  },
  {
   "cell_type": "markdown",
   "metadata": {},
   "source": [
    "Tags contain important information about an image. They are a way to refer to images. \n",
    "\n",
    "They are similar to git commit ids."
   ]
  },
  {
   "cell_type": "markdown",
   "metadata": {},
   "source": [
    "### Getting started with docker: \n",
    "\n",
    "First, to install the docker engine, go to https://docs.docker.com/engine/install/ and begin the process with the relevant OS.\n",
    "\n",
    "Congrats! Now we can run our first image:\n",
    "* docker run hello-world"
   ]
  },
  {
   "cell_type": "markdown",
   "metadata": {},
   "source": [
    "### Important docker commands to know"
   ]
  },
  {
   "cell_type": "markdown",
   "metadata": {},
   "source": [
    "* docker –version  (lets you get the current docker version)\n",
    "\n",
    "\n",
    "* docker pull (lets you pull images from the docker repository)\n",
    "\n",
    "\n",
    "* docker run {image name} (creates a container from an image)\n",
    "\n",
    "\n",
    "* docker ps (lists all the running container)\n",
    "\n",
    "\n",
    "* docker stop {container id} (stops the container) / docker start\n",
    "\n",
    "\n",
    "* docker kill {container id} (more effective way of stopping a container, does not give the container time)\n",
    "\n",
    "\n",
    "* docker exec (lets you enter the container)\n",
    "\n",
    "\n",
    "* docker commit {container id}{username/imagename} (creates a new image of edited container)\n",
    "\n",
    "\n",
    "* docker push (similar to git, pushes an image to the docker hub)\n",
    "\n",
    "\n",
    "* docker rm {container id} (lets you delete a stopped container), docker rmi (to delete images)\n",
    "\n",
    "\n",
    "* docker images (lists all the images on the system)\n",
    "\n",
    "\n",
    "* docker build (builds an image from a dockerfile)\n",
    "\n",
    "\n",
    "* docker tag SOURCE_IMAGE:TAG TARGET_IMAGE:TAG (lets you change the tag)\n",
    "\n",
    "\n",
    "* docker run --name \"name_of_choice\" \"image_name\" (assigns the name of a container)\n",
    "\n",
    "\n",
    "* docker system prune"
   ]
  },
  {
   "cell_type": "markdown",
   "metadata": {},
   "source": [
    "## Port Mapping"
   ]
  },
  {
   "cell_type": "markdown",
   "metadata": {},
   "source": [
    "![1*bIQOZL_pZujjrfaaYlQ_gQ.png](https://cdn-images-1.medium.com/max/1600/1*bIQOZL_pZujjrfaaYlQ_gQ.png)"
   ]
  },
  {
   "cell_type": "markdown",
   "metadata": {},
   "source": [
    "# *Containers do not save data!*"
   ]
  },
  {
   "cell_type": "markdown",
   "metadata": {},
   "source": [
    "## What are Bind Mounts?"
   ]
  },
  {
   "cell_type": "markdown",
   "metadata": {},
   "source": [
    "A bind mount is a file or folder stored anywhere on the host machine. When you use a bind mount, that file or directory is mounted into a container. The file or directory is referenced by its absolute path on the host machine. By contrast, when you use a volume, a new directory is created within Docker’s storage directory on the host machine, and Docker manages that directory’s contents."
   ]
  },
  {
   "cell_type": "markdown",
   "metadata": {},
   "source": [
    "![types-of-mounts-bind.png](https://docs.docker.com/storage/images/types-of-mounts-bind.png)"
   ]
  },
  {
   "cell_type": "markdown",
   "metadata": {},
   "source": [
    "## What is a Docker Volume?"
   ]
  },
  {
   "cell_type": "markdown",
   "metadata": {},
   "source": [
    "While bind mounts are dependent on the directory structure and OS of the host machine, volumes are completely managed by Docker. Volumes have several advantages over bind mounts:\n",
    "\n",
    "* Volumes are easier to back up or migrate than bind mounts.\n",
    "* Volumes can be more safely shared among multiple containers.\n",
    "* Volume drivers let you store volumes on remote hosts or cloud providers, to encrypt the contents of volumes, or to add other functionality.\n",
    "* They don't increase the container's size.\n"
   ]
  },
  {
   "cell_type": "markdown",
   "metadata": {},
   "source": [
    "![types-of-mounts-volume.png](https://docs.docker.com/storage/images/types-of-mounts-volume.png)"
   ]
  },
  {
   "cell_type": "markdown",
   "metadata": {},
   "source": [
    "docker run -v dest:origin"
   ]
  }
 ],
 "metadata": {
  "kernelspec": {
   "display_name": "Python 3",
   "language": "python",
   "name": "python3"
  },
  "language_info": {
   "codemirror_mode": {
    "name": "ipython",
    "version": 3
   },
   "file_extension": ".py",
   "mimetype": "text/x-python",
   "name": "python",
   "nbconvert_exporter": "python",
   "pygments_lexer": "ipython3",
   "version": "3.8.2"
  }
 },
 "nbformat": 4,
 "nbformat_minor": 4
}
