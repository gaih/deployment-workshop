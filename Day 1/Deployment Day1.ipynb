{
 "cells": [
  {
   "cell_type": "markdown",
   "metadata": {},
   "source": [
    "# What will you learn?\n",
    "\n",
    "* Important tools and processes for working on a project\n",
    "* General Idea About Cloud Services\n",
    "* CI/CD Pipelines\n",
    "* Basic Docker, Kubernetes and containerization"
   ]
  },
  {
   "cell_type": "markdown",
   "metadata": {},
   "source": [
    "***To begin with***:"
   ]
  },
  {
   "cell_type": "markdown",
   "metadata": {},
   "source": [
    "# Version Control"
   ]
  },
  {
   "cell_type": "markdown",
   "metadata": {},
   "source": [
    "Version control lets multiple developers work on a project simultaneously, or one person work on a project from different computers. Each person has their own copy which they can work on. In addition to this, version control grants historical versions to a project, like a backup, which can be traced back in case of a crash or a mistake. There are two types of version control, **centralized** and **distributed**. The main difference is, while in a centralized version control each user only gets their own copy, while in distributed version control they may also get their own repository. We will be working on some examples from a distributed version control system (Git)."
   ]
  },
  {
   "cell_type": "markdown",
   "metadata": {},
   "source": [
    "* git init \"initializes a git repository\""
   ]
  },
  {
   "cell_type": "markdown",
   "metadata": {},
   "source": [
    "**A typical workflow would go like this:**\n",
    "\n",
    "* git pull (Gets the changes from the repo)   \n",
    "* git add . (Tells git to track everything in the directory, prepares the current directory to get commited)\n",
    "* git comit -m \"comment on the update\" (Commits the changes to the local repo with a comment so that other contributers can see what you did, like a checkpoint)\n",
    "* git push (Pushes the commited files to the github repo)"
   ]
  },
  {
   "cell_type": "markdown",
   "metadata": {},
   "source": [
    "**If working in your own branch**:\n",
    "\n",
    "* git merge (Merges the changes in the named branch with your own branch)"
   ]
  },
  {
   "cell_type": "markdown",
   "metadata": {},
   "source": [
    "**When in doubt:**\n",
    "\n",
    "* git status (lists all modified files)\n",
    "* git diff (shows specific differences)\n",
    "* git log (shows the commits)"
   ]
  },
  {
   "cell_type": "markdown",
   "metadata": {},
   "source": [
    "**Want to go back to an older version?**\n",
    "\n",
    "* git checkout \"commit hash\""
   ]
  },
  {
   "cell_type": "markdown",
   "metadata": {},
   "source": [
    "**When you want to work separately:**\n",
    "\n",
    "* git branch \"new branch name\""
   ]
  },
  {
   "cell_type": "markdown",
   "metadata": {},
   "source": [
    "**To obtain the personal copy of a repository that is on GitHub:** \n",
    "\n",
    "* git clone \"repo URL\""
   ]
  },
  {
   "cell_type": "markdown",
   "metadata": {},
   "source": [
    "![assets%2F-M15KrJzoMvhbv4NcO9o%2F-M4D_zaea7Lgc9yTKd8L%2F-M4Da-C19U9kv9CRce8Z%2Fgithub-flow.png?alt=media](https://gblobscdn.gitbook.com/assets%2F-M15KrJzoMvhbv4NcO9o%2F-M4D_zaea7Lgc9yTKd8L%2F-M4Da-C19U9kv9CRce8Z%2Fgithub-flow.png?alt=media)"
   ]
  },
  {
   "cell_type": "markdown",
   "metadata": {},
   "source": [
    "# Test-Driven Development"
   ]
  },
  {
   "cell_type": "markdown",
   "metadata": {},
   "source": [
    "## What is test-driven development?"
   ]
  },
  {
   "cell_type": "markdown",
   "metadata": {},
   "source": [
    "Test-driven development is a software development approach that converts software requirements to test cases. Test cases are made to specify what the code should do. Test cases are created for each functionality. Before fully developing the software, the development is tracked by testing repeadetly, if the test fails, new code is written in order to pass the test. The test-driven approach relies on software requirements being converted to test cases."
   ]
  },
  {
   "cell_type": "markdown",
   "metadata": {},
   "source": [
    "## What are software requirements?"
   ]
  },
  {
   "cell_type": "markdown",
   "metadata": {},
   "source": [
    "A software requirement is a description of what the system should be doing, it is “a property that must be exhibited by\n",
    "something in order to solve some problem in the real world”. Requirements reflect the needs of different people at various levels of the organisation. There are two types of system requirements, functional(what the systemm should be doing) and non-functional(how the system should be doing).\n"
   ]
  },
  {
   "cell_type": "markdown",
   "metadata": {},
   "source": [
    "# How to apply test-driven development?"
   ]
  },
  {
   "cell_type": "markdown",
   "metadata": {},
   "source": [
    "![img-pyramid-d.png](https://test.io/wp-content/uploads/2018/11/img-pyramid-d.png)"
   ]
  },
  {
   "cell_type": "markdown",
   "metadata": {},
   "source": [
    "# Unit Testing"
   ]
  },
  {
   "cell_type": "markdown",
   "metadata": {},
   "source": [
    "![unit_testing.jpg](https://www.tutorialspoint.com/software_testing_dictionary/images/unit_testing.jpg)"
   ]
  },
  {
   "cell_type": "markdown",
   "metadata": {},
   "source": [
    "## What is Unit Testing?"
   ]
  },
  {
   "cell_type": "markdown",
   "metadata": {},
   "source": [
    "Unit testing is a software testing technique where individual units, chunks of software gets tested in isolation to see if every part of the software is working as it is planned."
   ]
  },
  {
   "cell_type": "markdown",
   "metadata": {},
   "source": [
    "* Helps detect bugs in early stage.\n",
    "* Reduces cost of later tests.\n",
    "* Helps refactoring and making further changes."
   ]
  },
  {
   "cell_type": "markdown",
   "metadata": {},
   "source": [
    "These tests are written in a way that the tests explain the property of the unit of is explained manually. For example, if you have a multiplication function, in the unit test you check this function by, using library functions or manually multiplying the parameters and checking if the result of the function is equal to the test result. There are several frameworks that help with unit testing, such as pytest, unittest..."
   ]
  },
  {
   "cell_type": "code",
   "execution_count": 22,
   "metadata": {},
   "outputs": [
    {
     "name": "stdout",
     "output_type": "stream",
     "text": [
      "Correct\n"
     ]
    }
   ],
   "source": [
    "def addition(x, y):\n",
    "    return x + y\n",
    "\n",
    "if addition(4, 4) == 8:\n",
    "    print(\"Correct\")\n",
    "else:\n",
    "    print(\"Wrong!\")"
   ]
  },
  {
   "cell_type": "markdown",
   "metadata": {},
   "source": [
    "## How is this going to help me as a data scientist?"
   ]
  },
  {
   "cell_type": "markdown",
   "metadata": {},
   "source": [
    "Well, you might want to write functions to make things more dynamic, readable."
   ]
  },
  {
   "cell_type": "code",
   "execution_count": 5,
   "metadata": {},
   "outputs": [],
   "source": [
    "import pandas as pd\n",
    "\n",
    "def load_data():\n",
    "    data = pd.DataFrame([[1, 5, 8, 2, 0, 5],\n",
    "                         [6, 3, 5, 0, 6, 8],\n",
    "                         [1, 2, 5, 3, 1, 7],\n",
    "                         [4, 7, 3, 4, 1, 4],\n",
    "                         [1, 7, 5, 3, 2, 1],\n",
    "                         [1, 4, 6, 2, 3, 4]], \n",
    "                         columns = [f\"feature_{i}\" if i!=0 else \"class\" for i in range(6)])\n",
    "    return data\n",
    "\n",
    "def groupby_mean(df, column):\n",
    "    return df.groupby(\"class\")[column].mean().to_dict()\n",
    "\n",
    "\n",
    "data = load_data()\n",
    "expected = {1: 4.5, 4: 7.0, 6: 3.0}\n",
    "actual = groupby_mean(data, \"feature_1\")\n",
    "assert actual == expected"
   ]
  },
  {
   "cell_type": "markdown",
   "metadata": {},
   "source": [
    "# Coverage"
   ]
  },
  {
   "cell_type": "markdown",
   "metadata": {},
   "source": [
    "* Code coverage measures the amount of code that is being tested. We talked about how a unit test performs on units of software, here we check how much of the software our tests actually cover. This can help seeing which parts of the software are not getting tested, which can lead writing and performing more tests. \n",
    "* Test coverage checks how much of the features are getting tested, how impactful the tests are. It can help with identifying meaningless tests that are costly.\n"
   ]
  },
  {
   "cell_type": "markdown",
   "metadata": {},
   "source": [
    "There are several code coverage techniques, such as:\n",
    "* Statement Coverage\n",
    "* Decision Coverage\n",
    "* Branch Coverage\n",
    "* Function Coverage\n",
    "\n",
    "These techniques can be exercised manually or using tools."
   ]
  },
  {
   "cell_type": "markdown",
   "metadata": {},
   "source": [
    "## Statement Coverage"
   ]
  },
  {
   "cell_type": "markdown",
   "metadata": {},
   "source": [
    "Statement coverage is concentrated on how the software works. It is a testing technique that calculates the number of executed statements in the source code. The main goal is to cover all possible statements in source code.\n",
    "\n",
    "**How to calculate it?**\n",
    "\n",
    "\n",
    "                Statement Coverage = Number of Executed Statement / Number of Possible Statements\n",
    "\n",
    "\n",
    "With statement coverage we can detect **unused statements, unused branches, missing statements***"
   ]
  },
  {
   "cell_type": "markdown",
   "metadata": {},
   "source": [
    "## Decision Coverage"
   ]
  },
  {
   "cell_type": "markdown",
   "metadata": {},
   "source": [
    "Decision coverage covers every possible branch from each decision point by executing at least once, checking if all reachable code is executed.\n",
    "\n",
    "**How to calculate it?**\n",
    "\n",
    "\n",
    "                Decision Coverage = Number of Resulted Decision Outcomes / Number of Decision Outcomes"
   ]
  },
  {
   "cell_type": "markdown",
   "metadata": {},
   "source": [
    "## Branch Coverage"
   ]
  },
  {
   "cell_type": "markdown",
   "metadata": {},
   "source": [
    "The goal of branch coverage is to check if every possible branch is executed at least once.\n",
    "\n",
    "**How to calculate it?**\n",
    "\n",
    "\n",
    "                Branch Coverage = Number of Executed Branches / Number of Possible Branches"
   ]
  },
  {
   "cell_type": "markdown",
   "metadata": {},
   "source": [
    "## Function Coverage"
   ]
  },
  {
   "cell_type": "markdown",
   "metadata": {},
   "source": [
    "This type of coverage checks if all possible functions are called at least once.\n",
    "\n",
    "**How to calculate it?**\n",
    "\n",
    "\n",
    "                Function Coverage = Number of Executed Functions / Number of Possible Functions"
   ]
  }
 ],
 "metadata": {
  "kernelspec": {
   "display_name": "Python 3",
   "language": "python",
   "name": "python3"
  },
  "language_info": {
   "codemirror_mode": {
    "name": "ipython",
    "version": 3
   },
   "file_extension": ".py",
   "mimetype": "text/x-python",
   "name": "python",
   "nbconvert_exporter": "python",
   "pygments_lexer": "ipython3",
   "version": "3.8.2"
  }
 },
 "nbformat": 4,
 "nbformat_minor": 4
}
